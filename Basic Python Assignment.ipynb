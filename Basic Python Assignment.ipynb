{
  "nbformat": 4,
  "nbformat_minor": 0,
  "metadata": {
    "colab": {
      "provenance": []
    },
    "kernelspec": {
      "name": "python3",
      "display_name": "Python 3"
    },
    "language_info": {
      "name": "python"
    }
  },
  "cells": [
    {
      "cell_type": "markdown",
      "source": [
        "# **Python Basics ( Theoreotical Questions )**\n"
      ],
      "metadata": {
        "id": "8qdxYNz-9ajf"
      }
    },
    {
      "cell_type": "markdown",
      "source": [
        "1. 48 What is Python, and why is it popular ?\n",
        "  \n",
        "  -  Python is high level and interpreted and open source programming language that is easy to read and write, developed by Guido Van Russom in 1991, and it supports multiple paradigms like procedural, object oriented and functioning which makes it popular among the industry and programmers.\n",
        "\n",
        "  --) There are many reasons why python is a popular among programmers and industry and some of those reasons  are:-\n",
        "\n",
        "  i.) Easy and Readable syntax: Python's syntax is english like syntax which can be understood and read easily, which makes is beginner friendly and much easy to learn.\n",
        "\n",
        "  ii.) Huge Libraries: Python has a large number of libraries and built in libraries and pre written codes for various fields like software development, machine learning, data science,etc.\n",
        "\n",
        "  iii.) Use in multiple fields: It is used in various fields like: software development, ai/ml, data science, automation,\n",
        "\n",
        "  iv.) Open source: It is an open source language available to all for free.\n",
        "\n",
        "  v.) Multiple Platforms compatiblity: It supports multiple platforms like windows, mac os, linux.\n",
        "\n",
        "  vi.) Active community: Python has a large active community supporting each other, helping in errors and providing new learning sources and pre written tested codes, making it popular in new programmers."
      ],
      "metadata": {
        "id": "3qQzAOkj-Izx"
      }
    },
    {
      "cell_type": "markdown",
      "source": [
        "2. What is an interpreter in Python ?\n",
        "\n",
        "  -  Python is an interpreted language which is interpreted by interpreter for the machine and then execute the code. An interpreter is a programme which executes the python code line by line unlike a compiled language in which a compiler first compile the whole code and then execute it.\n",
        "\n",
        "  Example:-\n",
        "\n",
        "            print(\"My name is Dhruv\")\n",
        "            print(50/0)\n",
        "            print(\"I am learning Python\") # this line won't be executed\n",
        "          \n",
        "  \"\"\" In this example last line won't be exexcuted as interpreter execute line by line and it will show error as second line is invalid\"\"\"\n"
      ],
      "metadata": {
        "id": "tRcLmSf1E1pm"
      }
    },
    {
      "cell_type": "markdown",
      "source": [
        "3. What are pre-defined keywords in Python ?\n",
        "\n",
        "  -  Predifined keywords in python are the words which are reserved to perform a specific task in the code and hold predefined special meaning, they cannot be used as variables in a code and they are case sensitive which means they can't be altered, redefined or overridden.\n",
        "\n",
        "  Some of the pre-defined keywords are: (import, input, print, else, if, elif, class, def, true, false, for, in, and , not,) etc.\n"
      ],
      "metadata": {
        "id": "QOtqoHGqHuaw"
      }
    },
    {
      "cell_type": "markdown",
      "source": [
        "4. Can keywords be used as variable names ?\n",
        "  -  It is not possible to use pre-defined keywords as variable names or redefining them as keywords have predefined meaning in python which exist to perform a specific task and if you use them as variable it will show syntax error.\n",
        "\n",
        "\n",
        "Example:-\n",
        "\n",
        "          and= \"Dhruv\"\n",
        "          print(and)\n",
        "          # invalid syntax"
      ],
      "metadata": {
        "id": "J1AhuGRiJu1c"
      }
    },
    {
      "cell_type": "markdown",
      "source": [
        "5.  What is mutability in Python ?\n",
        "  -  In python, an object is of two type after creation which are, either in is changable or unchangable. Wether an object can be changed or modified after creation is called mutability and such objects are called mutable objects.\n",
        "  Examples of mutable objects are: sets, dictionaries and lists.\n",
        "\n",
        "  Unchangable objects are called immutable and examples od such are: tuples and strings,etc.\n",
        "\n",
        "\n",
        "  Example of mutability:-\n",
        "                        \n",
        "                         my_list = [1, 2, 3]\n",
        "                         my_list[0] = 10\n",
        "                         print(my_list)   \n",
        "                         # Output: [10, 2, 3]\n",
        "\n",
        "                     "
      ],
      "metadata": {
        "id": "8RZ6eLZFLwAL"
      }
    },
    {
      "cell_type": "markdown",
      "source": [
        "6. Why are lists mutable, but tuples are immutable ?\n",
        "  -  As it is defined that lists are mutable and tuples are immutable even though there difference of paranthesis only in writng both, the reason of difference could be how mutability affects how an objects is stored,modified or manipulated in the memory which impacts the memory usage, performance and concurrency in python programmes.\n",
        "  \n",
        "  As lists are mutable which means it has dynamic storage which can be modified or changed after creation, but this makes it slower and occupies more memory but tuples are immutable which means it has fixed type of storage which makes it faster and data in tuples occupies less memory.\n",
        "\n",
        "  Example of mutable object:\n",
        "\n",
        "                            my_list = [1, 2, 3]\n",
        "                            my_list[0] = 10  \n",
        "                            print(my_list)   \n",
        "                            # Output: [10, 2, 3]\n",
        "\n",
        "Example of immutable objects:\n",
        "                             \n",
        "                             my_tuple = (1, 2, 3)\n",
        "                             my_tuple[0] = 10\n",
        "                              TypeError: 'tuple' object does not support item assignment\n",
        "                            \n"
      ],
      "metadata": {
        "id": "6LigIBECPQ3V"
      }
    },
    {
      "cell_type": "markdown",
      "source": [
        "7. What is the difference between “==” and “is” operators in Python ?\n",
        "   \n",
        "  -  \"==\" and \"is\" both are the comparision operators in the python used to compare two different python expressions, variables or numbers but there is a difference between both of them which is as follows:\n",
        "\n",
        "  1) \"==\" ( Equality operator):-  \n",
        "  i.) The \"==\" operator checks wether the two variables holds the equal value or not.              \n",
        "  ii.) It does not tell if the two objects are in same memory location or not.\n",
        "\n",
        "\n",
        "  Example:-\n",
        "            \n",
        "            a = [1, 2, 3]\n",
        "            b = [1, 2, 3]\n",
        "         print(a == b)  # True (values are the same)\n",
        "         print(a is b)  # False (different memory locations)\n",
        "\n",
        "\n",
        "2.) \"is\" ( Identity Operator\"):-         \n",
        "i.) The \"is\" operator checks whether two variables refer to the exact same\n",
        "     object in memory.   \n",
        "ii.) Even if values are the same, \"is\" will return False if they are different\n",
        "     objects.\n",
        "\n",
        " Example:-\n",
        "\n",
        "           a = b = [1, 2, 3]  # Both a and b point to the same list\n",
        "           print(a is b)      #True (same memory location)\n",
        "             \n",
        "         "
      ],
      "metadata": {
        "id": "uhogs0JbVEXT"
      }
    },
    {
      "cell_type": "markdown",
      "source": [
        "8. What are logical operators in Python ?\n",
        "  -  Logical Operators in python  are used to combine multiple codition and get result in boolean (True/False) value.\n",
        "  There are three types of logical operators: \"not\",\"and,\"or\".\n",
        "\n",
        "  \"And\": Returns value as \"True\" when both the conditions are true, otherwise \"False\".  \n",
        "  \n",
        "  \"Or\": Returns value as \"True\" when one of the two conditions are true, otherwise \"False\".\n",
        "\n",
        "  \"Not\": Returns the reversed Boolean value, \"not\" turns the \"True\" into \"False\" and vice versa.   \n"
      ],
      "metadata": {
        "id": "WXOU1y2LeuKj"
      }
    },
    {
      "cell_type": "markdown",
      "source": [
        "9. What is type casting in Python ?\n",
        "  -  Type casting means conversion or chainging of type, as every data has a datatype (like: int,str,float,bool) in python, so coverting one datatype of a certain data into other is known as type casting in python.\n",
        "  Python provides built-in functions for type casting, such as int(), float(), str(), list(), tuple(), dict(), etc. It is necessary for performing airthmetic operations when taking user input data as string and data manipulation.\n",
        "\n",
        "  Example:-\n",
        "\n",
        "            number_1= float(input(\"Enter your first number:\"))\n",
        "            number_2= float(input(\"Enter your second number:\"))\n",
        "            print(numeber_1+number_2)\n",
        "            #output: Sum of both numbers\n",
        "            # we used float type cast because input functions take all values in str and string values can't be added airthmetically."
      ],
      "metadata": {
        "id": "se3kx0VJiWk4"
      }
    },
    {
      "cell_type": "markdown",
      "source": [
        "10. What is the difference between implicit and explicit type casting ?\n",
        "  -  There are two types of type-casting: implicit type-casting and explicit type-casting.\n",
        "\n",
        "  1.) Implicit type-casting:- In this type-casting, python automatically converts the datatype of  different data, depending on the condition and data usually converting smaller datatype like(int) into larger datatype like(float).\n",
        "\n",
        "\n",
        "  Example:-\n",
        "            \n",
        "            num_int = 5   # Integer\n",
        "            num_float = 2.5  # Float\n",
        "            result = num_int + num_float  # Python converts int → float\n",
        "            print(result)  #Output: 7.5\n",
        "            print(type(result))  #<class 'float'>\n",
        "\n",
        "  2.) Explicit type-casting:- In this type-casting, python doesn't automatically converts the datatype of  different data, we have to convert it manually.\n",
        "\n",
        "  Example:-\n",
        "\n",
        "           num_str = \"100\"  # String\n",
        "          num_int = int(num_str)  #Convert to Integer\n",
        "          print(num_int + 10)  #Output: 110\n",
        "   \n",
        "\n",
        "\n"
      ],
      "metadata": {
        "id": "98Fl2bClmKk_"
      }
    },
    {
      "cell_type": "markdown",
      "source": [
        "11. What is the purpose of conditional statements in Python ?\n",
        "  -  Conditional statements in python are used to execute codes based on multiple conditions depending on wether the condition is true or not. It helps in applying the logic in code and making decisions (ex: wether a individual can have driving license or not based on the age of user).\n",
        "\n",
        "  There are many types of conditional statements: if, if-else, if-elif-else and nested if.\n",
        "\n",
        "  1.) Example of If:-\n",
        "\n",
        "                      age = 20\n",
        "                      if age >= 18:\n",
        "                        print(\"You are an adult.\")  \n",
        "                        #putput: You are an adult\n",
        "\n",
        "  2.) Example of if-else:-\n",
        "\n",
        "                           age = 16\n",
        "                           if age >= 18:\n",
        "                              print(\"You can vote.\")\n",
        "                           else:\n",
        "                                print(\"You are too young to vote.\")  \n",
        "                                # output: You are too young to vote.\n",
        "\n",
        "  3.) Example of if-elif-else:-\n",
        "\n",
        "                              marks = 85\n",
        "                              if marks >= 90:\n",
        "                                 print(\"Grade: A\")\n",
        "                              elif marks >= 75:\n",
        "                                 print(\"Grade: B\")  \n",
        "                              elif marks >= 60:\n",
        "                                 print(\"Grade: C\")\n",
        "                              else:\n",
        "                                print(\"Grade: F\")\n",
        "                               \n",
        "                                #output: Grade: B\n",
        "\n",
        "4.) Example of nested if:-\n",
        "                             \n",
        "                           age = 25\n",
        "                         if age >= 18:\n",
        "                         if age >= 21:\n",
        "                              print(\"You can drink alcohol.\")\n",
        "                         else:\n",
        "                              print(\"You can vote but not drink.\")\n",
        "\n",
        "                              output: You can drink alchol.\n",
        "  \n",
        "                               \n",
        "                      \n",
        "\n"
      ],
      "metadata": {
        "id": "9STBynk7qeU6"
      }
    },
    {
      "cell_type": "markdown",
      "source": [
        "12.  How does the elif statement work ?\n",
        "  -  The \"elif\" statement in Python is used when we need to check multiple conditions sequentially. It stands for \"else if\" and allows the program to evaluate different conditions one by one.\n",
        "\n",
        "  Syntax:\n",
        "\n",
        "          if condition1:\n",
        "              # Code block executed if condition1 is True\n",
        "          elif condition2:\n",
        "              # Code block executed if condition2 is True\n",
        "          elif condition3:\n",
        "              # Code block executed if condition3 is True\n",
        "          else:\n",
        "               # Code block executed if all conditions are False\n",
        "\n",
        "\n",
        " Example:\n",
        "\n",
        "          marks = 75\n",
        "\n",
        "         if marks >= 90:\n",
        "            print(\"Grade: A\")\n",
        "         elif marks >= 80:\n",
        "            print(\"Grade: B\")\n",
        "         elif marks >= 70:\n",
        "            print(\"Grade: C\")\n",
        "         elif marks >= 60:\n",
        "            print(\"Grade: D\")\n",
        "         else:\n",
        "             print(\"Grade: F\")'\n",
        "\n",
        "          Output: Grade:C   \n",
        "              \n"
      ],
      "metadata": {
        "id": "JqlPt89auX1B"
      }
    },
    {
      "cell_type": "markdown",
      "source": [
        "13.  What is the difference between for and while loops ?\n",
        "  -  In Python, loops are employed to repeat a sequence of actions or code until a specific condition is fulfilled. There are two types of loops in python which are: For loop and While Loop.\n",
        "\n",
        "  Difference between For loop and While loop are as follow:-\n",
        "\n",
        " 1.) For Loop: “for” loops are used for iterating over a sequence of elements, like: (lists, tuples, strings, range) and ends automatically when the sequence ends.\n",
        "\n",
        " Example:-\n",
        "            for i in range(1, 6):  \n",
        "              print(i)\n",
        "            #output: 1\n",
        "                     2\n",
        "                     3\n",
        "                     4\n",
        "                     5\n",
        "\n",
        " 2.) While Loop: “while” loops are used for executing code until a specified condition becomes False, it does not stops automatically so its a must that condition ends, in this number of iterations are unknown.\n",
        "\n",
        " Example:-\n",
        "\n",
        "           x = 1\n",
        "           while x <= 5:\n",
        "               print(x)\n",
        "           x += 1  # Increase x to avoid infinite loop\n",
        "           #output: 1,2,3,4,5\n",
        "           \n",
        "                    \n",
        "                "
      ],
      "metadata": {
        "id": "IbJuM3FMwFDv"
      }
    },
    {
      "cell_type": "markdown",
      "source": [
        "14. Describe a scenario where a while loop is more suitable than a for loop.\n",
        "  - A while loop is more important than for loop when number of iterations are unknown and depends on a condition being true.\n",
        "\n",
        "  A scenario suitable for while loop more than a for loop is in which we ask for user input again and again until they enter a valid data:\n",
        "\n",
        "  Example:\n",
        "          \n",
        "          password = \"\"\n",
        "            while password != \"1234\": # repeat until user enters password as 1234\n",
        "          password = input(\"Enter the correct password: \")\n",
        "          print(\"Access granted!\")\n",
        "\n",
        "          output:Enter the correct password: 0000  \n",
        "                 Enter the correct password: 5678  \n",
        "                 Enter the correct password: 1234  \n",
        "                 Access granted!\n",
        "\n"
      ],
      "metadata": {
        "id": "n6ynRERjzGsV"
      }
    },
    {
      "cell_type": "markdown",
      "source": [
        "# Python Basics ( Practical Questions )"
      ],
      "metadata": {
        "id": "Bdtypv0d2GBG"
      }
    },
    {
      "cell_type": "code",
      "source": [
        "\"\"\"1. Write a Python program to print \"Hello, World!y \"\"\"\n",
        "intro = (\"Hello World\") # using intro as variable\n",
        "print(intro)"
      ],
      "metadata": {
        "colab": {
          "base_uri": "https://localhost:8080/"
        },
        "id": "Ych2kJj12TdA",
        "outputId": "2c16844e-0836-48b9-db18-41774c52a377"
      },
      "execution_count": 1,
      "outputs": [
        {
          "output_type": "stream",
          "name": "stdout",
          "text": [
            "Hello World\n"
          ]
        }
      ]
    },
    {
      "cell_type": "code",
      "source": [
        "\"\"\" 2. 8 Write a Python program that displays your name and age \"\"\"\n",
        "name_me= \"My name is: Dhruv Kumar\"\n",
        "age_me = \"My age is 17\"\n",
        "print(name_me)\n",
        "print(age_me)\n",
        "\n",
        "name = input(\"Enter your name:\") # user enter his name\n",
        "age = int(input(\" Enter your age:\")) # user enter his age\n",
        "print(\"Your name is:\", name)\n",
        "print(\"Your age is:\", age)"
      ],
      "metadata": {
        "colab": {
          "base_uri": "https://localhost:8080/"
        },
        "id": "ZH5UE5ZS3J86",
        "outputId": "0fdb672c-0cc6-4b16-e50b-7ddf2d17acab"
      },
      "execution_count": 7,
      "outputs": [
        {
          "output_type": "stream",
          "name": "stdout",
          "text": [
            "My name is: Dhruv Kumar\n",
            "My age is 17\n",
            "Enter your name:Manish\n",
            " Enter your age:20\n",
            "Your name is: Manish\n",
            "Your age is: 20\n"
          ]
        }
      ]
    },
    {
      "cell_type": "code",
      "source": [
        "\"\"\" 3. Write code to print all the pre-defined keywords in Python using the keyword library \"\"\"\n",
        "import keyword\n",
        "\n",
        "# Print the list of all keywords in Python\n",
        "print(keyword.kwlist)\n",
        "\n"
      ],
      "metadata": {
        "colab": {
          "base_uri": "https://localhost:8080/"
        },
        "id": "L8a9hg2M4tb-",
        "outputId": "598d0bd1-fdb7-494e-be04-f504e557090f"
      },
      "execution_count": 6,
      "outputs": [
        {
          "output_type": "stream",
          "name": "stdout",
          "text": [
            "['False', 'None', 'True', 'and', 'as', 'assert', 'async', 'await', 'break', 'class', 'continue', 'def', 'del', 'elif', 'else', 'except', 'finally', 'for', 'from', 'global', 'if', 'import', 'in', 'is', 'lambda', 'nonlocal', 'not', 'or', 'pass', 'raise', 'return', 'try', 'while', 'with', 'yield']\n"
          ]
        }
      ]
    },
    {
      "cell_type": "code",
      "source": [
        "\"\"\" 4.Write a program that checks if a given word is a Python keyword.  \"\"\"\n",
        "import keyword\n",
        "\n",
        "# Take user input\n",
        "word = input(\"Enter a word: \")\n",
        "\n",
        "# Check if the word is a Python keyword\n",
        "if keyword.iskeyword(word):\n",
        "    print(f'\"{word}\" is a Python keyword.')\n",
        "else:\n",
        "    print(f'\"{word}\" is NOT a Python keyword.')\n"
      ],
      "metadata": {
        "colab": {
          "base_uri": "https://localhost:8080/"
        },
        "id": "BpjDfBAR5QpJ",
        "outputId": "36302ff1-edae-4f0d-bad8-0eccc32bdf01"
      },
      "execution_count": 8,
      "outputs": [
        {
          "output_type": "stream",
          "name": "stdout",
          "text": [
            "Enter a word: not\n",
            "\"not\" is a Python keyword.\n"
          ]
        }
      ]
    },
    {
      "cell_type": "code",
      "source": [
        "\"\"\" 5.  Create a list and tuple in Python, and demonstrate how attempting to change an element works differently\n",
        "for each. \"\"\"\n",
        "my_list = [1, 2, 3]\n",
        "print(\"Og List:\", my_list)\n",
        "\n",
        "# Modifying the list\n",
        "my_list[2] = 10\n",
        "print(\"Modified List:\", my_list)\n",
        "\n",
        "my_tuple = (1, 2, 3)\n",
        "print(\"Og Tuple:\", my_tuple)\n",
        "\n",
        "# Attempting to modify the tuple (will cause an error)\n",
        "my_tuple[0] = 10  # This will raise a TypeError\n"
      ],
      "metadata": {
        "colab": {
          "base_uri": "https://localhost:8080/",
          "height": 228
        },
        "id": "G7d4QP_26fyq",
        "outputId": "8204f8b1-d9cf-430f-86f3-a9798f501ef7"
      },
      "execution_count": 9,
      "outputs": [
        {
          "output_type": "stream",
          "name": "stdout",
          "text": [
            "Og List: [1, 2, 3]\n",
            "Modified List: [1, 2, 10]\n",
            "Og Tuple: (1, 2, 3)\n"
          ]
        },
        {
          "output_type": "error",
          "ename": "TypeError",
          "evalue": "'tuple' object does not support item assignment",
          "traceback": [
            "\u001b[0;31m---------------------------------------------------------------------------\u001b[0m",
            "\u001b[0;31mTypeError\u001b[0m                                 Traceback (most recent call last)",
            "\u001b[0;32m<ipython-input-9-4e8e52fde24c>\u001b[0m in \u001b[0;36m<cell line: 0>\u001b[0;34m()\u001b[0m\n\u001b[1;32m     14\u001b[0m \u001b[0;34m\u001b[0m\u001b[0m\n\u001b[1;32m     15\u001b[0m \u001b[0;31m# Attempting to modify the tuple (will cause an error)\u001b[0m\u001b[0;34m\u001b[0m\u001b[0;34m\u001b[0m\u001b[0m\n\u001b[0;32m---> 16\u001b[0;31m \u001b[0mmy_tuple\u001b[0m\u001b[0;34m[\u001b[0m\u001b[0;36m0\u001b[0m\u001b[0;34m]\u001b[0m \u001b[0;34m=\u001b[0m \u001b[0;36m10\u001b[0m  \u001b[0;31m# This will raise a TypeError\u001b[0m\u001b[0;34m\u001b[0m\u001b[0;34m\u001b[0m\u001b[0m\n\u001b[0m",
            "\u001b[0;31mTypeError\u001b[0m: 'tuple' object does not support item assignment"
          ]
        }
      ]
    },
    {
      "cell_type": "code",
      "source": [
        "\"\"\" 6.  Write a function to demonstrate the behavior of mutable and immutable arguments. \"\"\"\n",
        "my_list = [1, 2, 3] #mutable example\n",
        "print(\"Og List:\", my_list)\n",
        "\n",
        "my_list.append(4)  # Modifying the list\n",
        "print(\"Modified List:\", my_list)  # List is changed outside as well\n",
        "\n",
        "num = 10 #immutable example\n",
        "print(\"Original Number:\", num)\n",
        "\n",
        "num += 5  # Modifying the number\n",
        "print(\"Modified Number:\", num)  # The original value does NOT change\n"
      ],
      "metadata": {
        "colab": {
          "base_uri": "https://localhost:8080/"
        },
        "id": "AZ29z8He7lgF",
        "outputId": "0c12115d-a2ed-4527-d8eb-5b70af20d562"
      },
      "execution_count": 26,
      "outputs": [
        {
          "output_type": "stream",
          "name": "stdout",
          "text": [
            "Og List: [1, 2, 3]\n",
            "Modified List: [1, 2, 3, 4]\n",
            "Original Number: 10\n",
            "Modified Number: 15\n"
          ]
        }
      ]
    },
    {
      "cell_type": "code",
      "source": [
        "\"\"\" 7.  Write a program that performs basic arithmetic operations on two user-input numbers. \"\"\"\n",
        "# Taking two numbers as input\n",
        "num1 = float(input(\"Enter first number: \"))\n",
        "num2 = float(input(\"Enter second number: \"))\n",
        "\n",
        "# Performing basic arithmetic operations\n",
        "print(\"Sum:\", num1 + num2)\n",
        "print(\"Difference:\", num1 - num2)\n",
        "print(\"Product:\", num1 * num2)\n",
        "\n",
        "# as division has two conditions\n",
        "if num2 != 0:\n",
        "    print(\"Quotient:\", num1 / num2)\n",
        "else:\n",
        "    print(\"Division by zero is not allowed.\")\n"
      ],
      "metadata": {
        "colab": {
          "base_uri": "https://localhost:8080/"
        },
        "id": "k8VE7cfQ-pkU",
        "outputId": "a9699e45-e363-409a-9cec-34e6b84dedd6"
      },
      "execution_count": 13,
      "outputs": [
        {
          "output_type": "stream",
          "name": "stdout",
          "text": [
            "Enter first number: 25\n",
            "Enter second number: 5\n",
            "Sum: 30.0\n",
            "Difference: 20.0\n",
            "Product: 125.0\n",
            "Quotient: 5.0\n"
          ]
        }
      ]
    },
    {
      "cell_type": "code",
      "source": [
        "\"\"\" 8.  Write a program to demonstrate the use of logical operators \"\"\"\n",
        "# as 1 is true in binary and 0 is false and logical operators use boolean value as result we are going to take user input in 0 and 1\n",
        "# Taking two boolean inputs\n",
        "a = bool(int(input(\"Enter 1 for True, 0 for False (a): \")))\n",
        "b = bool(int(input(\"Enter 1 for True, 0 for False (b): \")))\n",
        "\n",
        "# Demonstrating logical operators\n",
        "print(\"a AND b:\", a and b)   # True only if both are True\n",
        "print(\"a OR b:\", a or b)     # True if at least one is True\n",
        "print(\"NOT a:\", not a)       # Reverses the value of a\n"
      ],
      "metadata": {
        "colab": {
          "base_uri": "https://localhost:8080/"
        },
        "id": "l1kP6pdu_RYE",
        "outputId": "c3fa539c-41be-48cd-ee42-ca27ca08bc42"
      },
      "execution_count": 14,
      "outputs": [
        {
          "output_type": "stream",
          "name": "stdout",
          "text": [
            "Enter 1 for True, 0 for False (a): 1\n",
            "Enter 1 for True, 0 for False (b): 0\n",
            "a AND b: False\n",
            "a OR b: True\n",
            "NOT a: False\n"
          ]
        }
      ]
    },
    {
      "cell_type": "code",
      "source": [
        "\"\"\" 9. Write a Python program to convert user input from string to integer, float, and boolean types. \"\"\"\n",
        "# string input\n",
        "user_input = input(\"Enter a value (add value in numbers): \")\n",
        "\n",
        "# Converting to different data types\n",
        "int_value = int(user_input)   # Converts to integer\n",
        "float_value = float(user_input)  # Converts to float\n",
        "bool_value = bool(int_value)  # Converts to boolean (0 -> False, others -> True)\n",
        "\n",
        "# Printing the results\n",
        "print(\"Integer:\", int_value)\n",
        "print(\"Float:\", float_value)\n",
        "print(\"Boolean:\", bool_value)\n"
      ],
      "metadata": {
        "colab": {
          "base_uri": "https://localhost:8080/"
        },
        "id": "2jSDYFLjAUey",
        "outputId": "5965948a-e4c1-4a2f-c4b4-b4b942bc321f"
      },
      "execution_count": 18,
      "outputs": [
        {
          "output_type": "stream",
          "name": "stdout",
          "text": [
            "Enter a value (add value in numbers): 20\n",
            "Integer: 20\n",
            "Float: 20.0\n",
            "Boolean: True\n"
          ]
        }
      ]
    },
    {
      "cell_type": "code",
      "source": [
        "\"\"\"10. Write code to demonstrate type casting with list elements. \"\"\"\n",
        "str_list = [\"1\", \"2\", \"3\", \"4\"]\n",
        "\n",
        "# Converting each element to integer\n",
        "int_list = []\n",
        "for num in str_list:\n",
        "    int_list.append(int(num))\n",
        "\n",
        "# Converting each element to float\n",
        "float_list = []\n",
        "for num in str_list:\n",
        "    float_list.append(float(num))\n",
        "\n",
        "# Printing the results\n",
        "print(\"Original List (Strings):\", str_list)\n",
        "print(\"Converted to Integers:\", int_list)\n",
        "print(\"Converted to Floats:\", float_list)\n"
      ],
      "metadata": {
        "colab": {
          "base_uri": "https://localhost:8080/"
        },
        "id": "CDz3lvDRBVpn",
        "outputId": "a575c2db-108a-4774-c18b-4b532b884b86"
      },
      "execution_count": 19,
      "outputs": [
        {
          "output_type": "stream",
          "name": "stdout",
          "text": [
            "Original List (Strings): ['1', '2', '3', '4']\n",
            "Converted to Integers: [1, 2, 3, 4]\n",
            "Converted to Floats: [1.0, 2.0, 3.0, 4.0]\n"
          ]
        }
      ]
    },
    {
      "cell_type": "code",
      "source": [
        "\"\"\" 11.Write a program that checks if a number is positive, negative, or zero.\"\"\"\n",
        "num = float(input(\"Enter a number: \"))\n",
        "if num > 0:\n",
        "    print(\"The number is positive.\")\n",
        "elif num < 0:\n",
        "    print(\"The number is negative.\")\n",
        "else:\n",
        "    print(\"The number is zero.\")\n"
      ],
      "metadata": {
        "colab": {
          "base_uri": "https://localhost:8080/"
        },
        "id": "m2q4-zo9DXEf",
        "outputId": "488e6b92-c513-4d3b-d88f-e1fd7eb4f420"
      },
      "execution_count": 20,
      "outputs": [
        {
          "output_type": "stream",
          "name": "stdout",
          "text": [
            "Enter a number: 20\n",
            "The number is positive.\n"
          ]
        }
      ]
    },
    {
      "cell_type": "code",
      "source": [
        "\"\"\"12. Write a for loop to print numbers from 1 to 10.\"\"\"\n",
        "for number in range(1, 11):\n",
        "    print(number)\n"
      ],
      "metadata": {
        "colab": {
          "base_uri": "https://localhost:8080/"
        },
        "id": "ubPW5Wi2DzIE",
        "outputId": "6139ebc2-4897-4492-83f1-cc0c8b0dd4d7"
      },
      "execution_count": 21,
      "outputs": [
        {
          "output_type": "stream",
          "name": "stdout",
          "text": [
            "1\n",
            "2\n",
            "3\n",
            "4\n",
            "5\n",
            "6\n",
            "7\n",
            "8\n",
            "9\n",
            "10\n"
          ]
        }
      ]
    },
    {
      "cell_type": "code",
      "source": [
        "\"\"\"13. Write a Python program to find the sum of all even numbers between 1 and 50. \"\"\"\n",
        "sum_even = 0\n",
        "\n",
        "for i in range(2, 51, 2):  # Start from 2, go up to 50, step by 2 skipping all odd no.\n",
        "    sum_even += i\n",
        "\n",
        "print(\"Sum of even numbers from 1 to 50:\", sum_even)\n"
      ],
      "metadata": {
        "colab": {
          "base_uri": "https://localhost:8080/"
        },
        "id": "mzJFslhHELpx",
        "outputId": "0dc8f33e-a663-4765-d583-36a49827e8e8"
      },
      "execution_count": 22,
      "outputs": [
        {
          "output_type": "stream",
          "name": "stdout",
          "text": [
            "Sum of even numbers from 1 to 50: 650\n"
          ]
        }
      ]
    },
    {
      "cell_type": "code",
      "source": [
        "\"\"\" 14.  Write a program to reverse a string using a while loop. \"\"\"\n",
        "text = input(\"Enter a value: \")\n",
        "reversed_text = \"\"\n",
        "index = len(text) - 1  # Start from the last character\n",
        "while index >= 0:\n",
        "    reversed_text += text[index]  # Add each character in reverse order\n",
        "    index -= 1  # Move to the previous character\n",
        "print(\"Reversed string:\", reversed_text)\n"
      ],
      "metadata": {
        "colab": {
          "base_uri": "https://localhost:8080/"
        },
        "id": "-tC9M4q5E62P",
        "outputId": "6106a4c8-f020-46e0-90b9-60f472725344"
      },
      "execution_count": 23,
      "outputs": [
        {
          "output_type": "stream",
          "name": "stdout",
          "text": [
            "Enter a value: racecar\n",
            "Reversed string: racecar\n"
          ]
        }
      ]
    },
    {
      "cell_type": "code",
      "source": [
        "\"\"\" 15.  Write a Python program to calculate the factorial of a number provided by the user using a while loop. \"\"\"\n",
        "num = int(input(\"Enter a number: \"))\n",
        "factorial = 1  # Initialize factorial as 1 (since multiplying by 0 would result in 0)\n",
        "i = 1\n",
        "while i <= num: # Loop runs from 1 to num, multiplying factorial by each value of i\n",
        "    factorial *= i\n",
        "    i += 1\n",
        "print(\"Factorial:\", factorial)\n"
      ],
      "metadata": {
        "colab": {
          "base_uri": "https://localhost:8080/"
        },
        "id": "B5GXSV6CGzX5",
        "outputId": "d0c889f3-4564-4fd1-f6dc-1d22babfb5c2"
      },
      "execution_count": 25,
      "outputs": [
        {
          "output_type": "stream",
          "name": "stdout",
          "text": [
            "Enter a number: 5\n",
            "Factorial: 120\n"
          ]
        }
      ]
    }
  ]
}